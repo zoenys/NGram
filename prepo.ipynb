{
 "cells": [
  {
   "cell_type": "code",
   "execution_count": 1,
   "metadata": {},
   "outputs": [
    {
     "data": {
      "text/html": [
       "<div>\n",
       "<style scoped>\n",
       "    .dataframe tbody tr th:only-of-type {\n",
       "        vertical-align: middle;\n",
       "    }\n",
       "\n",
       "    .dataframe tbody tr th {\n",
       "        vertical-align: top;\n",
       "    }\n",
       "\n",
       "    .dataframe thead th {\n",
       "        text-align: right;\n",
       "    }\n",
       "</style>\n",
       "<table border=\"1\" class=\"dataframe\">\n",
       "  <thead>\n",
       "    <tr style=\"text-align: right;\">\n",
       "      <th></th>\n",
       "      <th>Unnamed: 0</th>\n",
       "      <th>quote</th>\n",
       "      <th>author</th>\n",
       "      <th>tags</th>\n",
       "    </tr>\n",
       "  </thead>\n",
       "  <tbody>\n",
       "    <tr>\n",
       "      <th>0</th>\n",
       "      <td>0</td>\n",
       "      <td>“Be yourself; everyone else is already taken.”</td>\n",
       "      <td>Oscar Wilde</td>\n",
       "      <td>['be-yourself', 'gilbert-perreira', 'honesty',...</td>\n",
       "    </tr>\n",
       "    <tr>\n",
       "      <th>1</th>\n",
       "      <td>1</td>\n",
       "      <td>“I'm selfish, impatient and a little insecure....</td>\n",
       "      <td>Marilyn Monroe</td>\n",
       "      <td>['best', 'life', 'love', 'mistakes', 'out-of-c...</td>\n",
       "    </tr>\n",
       "    <tr>\n",
       "      <th>2</th>\n",
       "      <td>2</td>\n",
       "      <td>“Two things are infinite: the universe and hum...</td>\n",
       "      <td>Albert Einstein</td>\n",
       "      <td>['human-nature', 'humor', 'infinity', 'philoso...</td>\n",
       "    </tr>\n",
       "    <tr>\n",
       "      <th>3</th>\n",
       "      <td>3</td>\n",
       "      <td>“So many books, so little time.”</td>\n",
       "      <td>Frank Zappa</td>\n",
       "      <td>['books', 'humor']</td>\n",
       "    </tr>\n",
       "    <tr>\n",
       "      <th>4</th>\n",
       "      <td>4</td>\n",
       "      <td>“A room without books is like a body without a...</td>\n",
       "      <td>Marcus Tullius Cicero</td>\n",
       "      <td>['books', 'simile', 'soul']</td>\n",
       "    </tr>\n",
       "  </tbody>\n",
       "</table>\n",
       "</div>"
      ],
      "text/plain": [
       "   Unnamed: 0                                              quote  \\\n",
       "0           0     “Be yourself; everyone else is already taken.”   \n",
       "1           1  “I'm selfish, impatient and a little insecure....   \n",
       "2           2  “Two things are infinite: the universe and hum...   \n",
       "3           3                   “So many books, so little time.”   \n",
       "4           4  “A room without books is like a body without a...   \n",
       "\n",
       "                  author                                               tags  \n",
       "0            Oscar Wilde  ['be-yourself', 'gilbert-perreira', 'honesty',...  \n",
       "1         Marilyn Monroe  ['best', 'life', 'love', 'mistakes', 'out-of-c...  \n",
       "2        Albert Einstein  ['human-nature', 'humor', 'infinity', 'philoso...  \n",
       "3            Frank Zappa                                 ['books', 'humor']  \n",
       "4  Marcus Tullius Cicero                        ['books', 'simile', 'soul']  "
      ]
     },
     "execution_count": 1,
     "metadata": {},
     "output_type": "execute_result"
    }
   ],
   "source": [
    "import pandas as pd\n",
    "df = pd.read_csv('C:\\\\Data\\\\SCHOOL_NEW\\\\1 U N A I R\\\\5  S E M E S T E R 5\\\\NLP\\\\P R O Y E K M3 NGRAM\\\\env\\\\quotes.csv')\n",
    "df.head()"
   ]
  },
  {
   "cell_type": "code",
   "execution_count": 2,
   "metadata": {},
   "outputs": [],
   "source": [
    "import re\n",
    "from collections import Counter\n",
    "# Fungsi untuk membersihkan teks\n",
    "def clean_text(text):\n",
    "    # Menghilangkan tanda kutip dan simbol khusus menggunakan regex\n",
    "    text = re.sub(r'[^\\w\\s]', '', text)  # Hapus semua karakter selain huruf dan spasi\n",
    "    text = text.lower()  # Ubah semua teks menjadi huruf kecil\n",
    "    return text\n",
    "\n",
    "# Terapkan fungsi cleaning pada kolom 'quote'\n",
    "df['cleaned_quote'] = df['quote'].apply(clean_text)"
   ]
  },
  {
   "cell_type": "markdown",
   "metadata": {},
   "source": [
    "> Menggunakan contractions untuk suatu kalimat dengan TOBE <br>\n",
    "> I'm selfish menjadi I am selfish"
   ]
  },
  {
   "cell_type": "code",
   "execution_count": 3,
   "metadata": {},
   "outputs": [
    {
     "name": "stdout",
     "output_type": "stream",
     "text": [
      "                                       cleaned_quote  \\\n",
      "0         be yourself everyone else is already taken   \n",
      "1  im selfish impatient and a little insecure i m...   \n",
      "2  two things are infinite the universe and human...   \n",
      "3                       so many books so little time   \n",
      "4  a room without books is like a body without a ...   \n",
      "\n",
      "                                      expanded_quote  \n",
      "0         be yourself everyone else is already taken  \n",
      "1  i am selfish impatient and a little insecure i...  \n",
      "2  two things are infinite the universe and human...  \n",
      "3                       so many books so little time  \n",
      "4  a room without books is like a body without a ...  \n"
     ]
    }
   ],
   "source": [
    "import contractions\n",
    "\n",
    "# Fungsi untuk memperluas kontraksi dalam teks\n",
    "def expand_contractions(text):\n",
    "    return contractions.fix(text)\n",
    "\n",
    "# Terapkan fungsi pada kolom 'quote' dan simpan hasilnya di kolom baru 'expanded_quote'\n",
    "df['expanded_quote'] = df['cleaned_quote'].apply(expand_contractions)\n",
    "\n",
    "# Tampilkan DataFrame hasilnya\n",
    "print(df[['cleaned_quote', 'expanded_quote']].head())"
   ]
  },
  {
   "cell_type": "code",
   "execution_count": 4,
   "metadata": {},
   "outputs": [
    {
     "name": "stderr",
     "output_type": "stream",
     "text": [
      "[nltk_data] Downloading package punkt to\n",
      "[nltk_data]     C:\\Users\\Zoen\\AppData\\Roaming\\nltk_data...\n",
      "[nltk_data]   Package punkt is already up-to-date!\n"
     ]
    }
   ],
   "source": [
    "import nltk\n",
    "nltk.download('punkt')  # Unduh modul tokenisasi untuk nltk\n",
    "\n",
    "# Fungsi untuk membagi teks menjadi kalimat\n",
    "def split_to_sentences(text):\n",
    "    from nltk.tokenize import sent_tokenize\n",
    "    sentences = sent_tokenize(text)\n",
    "    return sentences\n",
    "\n",
    "# Fungsi untuk membagi kalimat menjadi token kata\n",
    "def tokenize_sentences(sentences):\n",
    "    from nltk.tokenize import word_tokenize\n",
    "    tokenized_sentences = [word_tokenize(sentence) for sentence in sentences]\n",
    "    return tokenized_sentences"
   ]
  },
  {
   "cell_type": "code",
   "execution_count": 5,
   "metadata": {},
   "outputs": [
    {
     "name": "stdout",
     "output_type": "stream",
     "text": [
      "                                      expanded_quote  \\\n",
      "0         be yourself everyone else is already taken   \n",
      "1  i am selfish impatient and a little insecure i...   \n",
      "2  two things are infinite the universe and human...   \n",
      "3                       so many books so little time   \n",
      "4  a room without books is like a body without a ...   \n",
      "\n",
      "                                     tokenized_quote  \n",
      "0  [[be, yourself, everyone, else, is, already, t...  \n",
      "1  [[i, am, selfish, impatient, and, a, little, i...  \n",
      "2  [[two, things, are, infinite, the, universe, a...  \n",
      "3              [[so, many, books, so, little, time]]  \n",
      "4  [[a, room, without, books, is, like, a, body, ...  \n"
     ]
    }
   ],
   "source": [
    "# Fungsi untuk memproses seluruh kolom 'expanded_quote'\n",
    "def get_tokenized_data(data):\n",
    "    # Memisahkan teks menjadi kalimat\n",
    "    sentences = split_to_sentences(data)\n",
    "    \n",
    "    # Tokenisasi setiap kalimat menjadi kata\n",
    "    tokenized_sentences = tokenize_sentences(sentences)\n",
    "    \n",
    "    return tokenized_sentences\n",
    "\n",
    "# Menerapkan fungsi pada kolom 'expanded_quote' di DataFrame\n",
    "df['tokenized_quote'] = df['expanded_quote'].apply(get_tokenized_data)\n",
    "\n",
    "# Tampilkan hasil\n",
    "print(df[['expanded_quote', 'tokenized_quote']].head())\n"
   ]
  },
  {
   "cell_type": "code",
   "execution_count": 6,
   "metadata": {},
   "outputs": [
    {
     "data": {
      "text/html": [
       "<div>\n",
       "<style scoped>\n",
       "    .dataframe tbody tr th:only-of-type {\n",
       "        vertical-align: middle;\n",
       "    }\n",
       "\n",
       "    .dataframe tbody tr th {\n",
       "        vertical-align: top;\n",
       "    }\n",
       "\n",
       "    .dataframe thead th {\n",
       "        text-align: right;\n",
       "    }\n",
       "</style>\n",
       "<table border=\"1\" class=\"dataframe\">\n",
       "  <thead>\n",
       "    <tr style=\"text-align: right;\">\n",
       "      <th></th>\n",
       "      <th>Unnamed: 0</th>\n",
       "      <th>quote</th>\n",
       "      <th>author</th>\n",
       "      <th>tags</th>\n",
       "      <th>cleaned_quote</th>\n",
       "      <th>expanded_quote</th>\n",
       "      <th>tokenized_quote</th>\n",
       "    </tr>\n",
       "  </thead>\n",
       "  <tbody>\n",
       "    <tr>\n",
       "      <th>0</th>\n",
       "      <td>0</td>\n",
       "      <td>“Be yourself; everyone else is already taken.”</td>\n",
       "      <td>Oscar Wilde</td>\n",
       "      <td>['be-yourself', 'gilbert-perreira', 'honesty',...</td>\n",
       "      <td>be yourself everyone else is already taken</td>\n",
       "      <td>be yourself everyone else is already taken</td>\n",
       "      <td>[[be, yourself, everyone, else, is, already, t...</td>\n",
       "    </tr>\n",
       "    <tr>\n",
       "      <th>1</th>\n",
       "      <td>1</td>\n",
       "      <td>“I'm selfish, impatient and a little insecure....</td>\n",
       "      <td>Marilyn Monroe</td>\n",
       "      <td>['best', 'life', 'love', 'mistakes', 'out-of-c...</td>\n",
       "      <td>im selfish impatient and a little insecure i m...</td>\n",
       "      <td>i am selfish impatient and a little insecure i...</td>\n",
       "      <td>[[i, am, selfish, impatient, and, a, little, i...</td>\n",
       "    </tr>\n",
       "    <tr>\n",
       "      <th>2</th>\n",
       "      <td>2</td>\n",
       "      <td>“Two things are infinite: the universe and hum...</td>\n",
       "      <td>Albert Einstein</td>\n",
       "      <td>['human-nature', 'humor', 'infinity', 'philoso...</td>\n",
       "      <td>two things are infinite the universe and human...</td>\n",
       "      <td>two things are infinite the universe and human...</td>\n",
       "      <td>[[two, things, are, infinite, the, universe, a...</td>\n",
       "    </tr>\n",
       "    <tr>\n",
       "      <th>3</th>\n",
       "      <td>3</td>\n",
       "      <td>“So many books, so little time.”</td>\n",
       "      <td>Frank Zappa</td>\n",
       "      <td>['books', 'humor']</td>\n",
       "      <td>so many books so little time</td>\n",
       "      <td>so many books so little time</td>\n",
       "      <td>[[so, many, books, so, little, time]]</td>\n",
       "    </tr>\n",
       "    <tr>\n",
       "      <th>4</th>\n",
       "      <td>4</td>\n",
       "      <td>“A room without books is like a body without a...</td>\n",
       "      <td>Marcus Tullius Cicero</td>\n",
       "      <td>['books', 'simile', 'soul']</td>\n",
       "      <td>a room without books is like a body without a ...</td>\n",
       "      <td>a room without books is like a body without a ...</td>\n",
       "      <td>[[a, room, without, books, is, like, a, body, ...</td>\n",
       "    </tr>\n",
       "  </tbody>\n",
       "</table>\n",
       "</div>"
      ],
      "text/plain": [
       "   Unnamed: 0                                              quote  \\\n",
       "0           0     “Be yourself; everyone else is already taken.”   \n",
       "1           1  “I'm selfish, impatient and a little insecure....   \n",
       "2           2  “Two things are infinite: the universe and hum...   \n",
       "3           3                   “So many books, so little time.”   \n",
       "4           4  “A room without books is like a body without a...   \n",
       "\n",
       "                  author                                               tags  \\\n",
       "0            Oscar Wilde  ['be-yourself', 'gilbert-perreira', 'honesty',...   \n",
       "1         Marilyn Monroe  ['best', 'life', 'love', 'mistakes', 'out-of-c...   \n",
       "2        Albert Einstein  ['human-nature', 'humor', 'infinity', 'philoso...   \n",
       "3            Frank Zappa                                 ['books', 'humor']   \n",
       "4  Marcus Tullius Cicero                        ['books', 'simile', 'soul']   \n",
       "\n",
       "                                       cleaned_quote  \\\n",
       "0         be yourself everyone else is already taken   \n",
       "1  im selfish impatient and a little insecure i m...   \n",
       "2  two things are infinite the universe and human...   \n",
       "3                       so many books so little time   \n",
       "4  a room without books is like a body without a ...   \n",
       "\n",
       "                                      expanded_quote  \\\n",
       "0         be yourself everyone else is already taken   \n",
       "1  i am selfish impatient and a little insecure i...   \n",
       "2  two things are infinite the universe and human...   \n",
       "3                       so many books so little time   \n",
       "4  a room without books is like a body without a ...   \n",
       "\n",
       "                                     tokenized_quote  \n",
       "0  [[be, yourself, everyone, else, is, already, t...  \n",
       "1  [[i, am, selfish, impatient, and, a, little, i...  \n",
       "2  [[two, things, are, infinite, the, universe, a...  \n",
       "3              [[so, many, books, so, little, time]]  \n",
       "4  [[a, room, without, books, is, like, a, body, ...  "
      ]
     },
     "execution_count": 6,
     "metadata": {},
     "output_type": "execute_result"
    }
   ],
   "source": [
    "df.head()"
   ]
  },
  {
   "cell_type": "code",
   "execution_count": null,
   "metadata": {},
   "outputs": [],
   "source": [
    "df[['tokenized_quote', 'tags']].to_csv('new_tokenized.csv', index=False)"
   ]
  }
 ],
 "metadata": {
  "kernelspec": {
   "display_name": "env",
   "language": "python",
   "name": "python3"
  },
  "language_info": {
   "codemirror_mode": {
    "name": "ipython",
    "version": 3
   },
   "file_extension": ".py",
   "mimetype": "text/x-python",
   "name": "python",
   "nbconvert_exporter": "python",
   "pygments_lexer": "ipython3",
   "version": "3.11.3"
  }
 },
 "nbformat": 4,
 "nbformat_minor": 2
}
